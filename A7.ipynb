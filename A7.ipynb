{
 "cells": [
  {
   "cell_type": "markdown",
   "metadata": {},
   "source": [
    "# A7: Training Distillation vs LoRA"
   ]
  },
  {
   "cell_type": "code",
   "execution_count": 2,
   "metadata": {},
   "outputs": [
    {
     "name": "stderr",
     "output_type": "stream",
     "text": [
      "c:\\Users\\st124\\OneDrive\\Desktop\\NLP_A7\\venv\\lib\\site-packages\\tqdm\\auto.py:21: TqdmWarning: IProgress not found. Please update jupyter and ipywidgets. See https://ipywidgets.readthedocs.io/en/stable/user_install.html\n",
      "  from .autonotebook import tqdm as notebook_tqdm\n"
     ]
    },
    {
     "data": {
      "text/plain": [
       "('3.4.1', '4.49.0', '2.5.1+cu121')"
      ]
     },
     "execution_count": 2,
     "metadata": {},
     "output_type": "execute_result"
    }
   ],
   "source": [
    "# !pip install datasets --upgrade\n",
    "import datasets\n",
    "import transformers\n",
    "import torch\n",
    "datasets.__version__, transformers.__version__, torch.__version__"
   ]
  },
  {
   "cell_type": "code",
   "execution_count": 3,
   "metadata": {},
   "outputs": [
    {
     "name": "stdout",
     "output_type": "stream",
     "text": [
      "cuda\n"
     ]
    }
   ],
   "source": [
    "import torch.nn as nn\n",
    "import torch\n",
    "from tqdm.auto import tqdm\n",
    "import random, math, time\n",
    "\n",
    "device = torch.device('cuda' if torch.cuda.is_available() else 'cpu')\n",
    "print(device)\n",
    "\n",
    "#make our work comparable if restarted the kernel\n",
    "SEED = 1234\n",
    "torch.manual_seed(SEED)\n",
    "torch.backends.cudnn.deterministic = True"
   ]
  },
  {
   "cell_type": "markdown",
   "metadata": {},
   "source": [
    "# 1. Load HateXplain Dataset from Hugging Face"
   ]
  },
  {
   "cell_type": "code",
   "execution_count": null,
   "metadata": {},
   "outputs": [
    {
     "name": "stderr",
     "output_type": "stream",
     "text": [
      "c:\\Users\\st124\\OneDrive\\Desktop\\NLP_A7\\venv\\lib\\site-packages\\huggingface_hub\\file_download.py:142: UserWarning: `huggingface_hub` cache-system uses symlinks by default to efficiently store duplicated files but your machine does not support them in C:\\Users\\st124\\.cache\\huggingface\\hub\\datasets--hate_speech_offensive. Caching files will still work but in a degraded version that might require more space on your disk. This warning can be disabled by setting the `HF_HUB_DISABLE_SYMLINKS_WARNING` environment variable. For more details, see https://huggingface.co/docs/huggingface_hub/how-to-cache#limitations.\n",
      "To support symlinks on Windows, you either need to activate Developer Mode or to run Python as an administrator. In order to activate developer mode, see this article: https://docs.microsoft.com/en-us/windows/apps/get-started/enable-your-device-for-development\n",
      "  warnings.warn(message)\n",
      "Generating train split: 100%|██████████| 24783/24783 [00:00<00:00, 461769.01 examples/s]\n"
     ]
    }
   ],
   "source": [
    "from datasets import load_dataset\n",
    "\n",
    "# Load the HateXplain dataset from Hugging Face\n",
    "dataset = load_dataset(\"hate_speech_offensive\")\n",
    "\n",
    "# # Check dataset structure\n",
    "# print(dataset)"
   ]
  },
  {
   "cell_type": "code",
   "execution_count": 5,
   "metadata": {},
   "outputs": [],
   "source": [
    "# Label Mapping\n",
    "label_list = [\"Non-Hate\", \"Offensive\", \"Hate\"]\n",
    "label2id = {v: i for i, v in enumerate(label_list)}\n",
    "id2label = {i: v for v, i in label2id.items()}"
   ]
  },
  {
   "cell_type": "code",
   "execution_count": 6,
   "metadata": {},
   "outputs": [],
   "source": [
    "# Assign feature key\n",
    "task_to_keys = {\"hatexplain\": \"tweet\"}\n",
    "task_name = \"hatexplain\"\n",
    "sentence_key = task_to_keys[task_name]"
   ]
  },
  {
   "cell_type": "code",
   "execution_count": 9,
   "metadata": {},
   "outputs": [
    {
     "name": "stdout",
     "output_type": "stream",
     "text": [
      "DatasetDict({\n",
      "    train: Dataset({\n",
      "        features: ['count', 'hate_speech_count', 'offensive_language_count', 'neither_count', 'class', 'tweet'],\n",
      "        num_rows: 24783\n",
      "    })\n",
      "})\n",
      "Example: !!! RT @mayasolovely: As a woman you shouldn't complain about cleaning up your house. &amp; as a man you should always take the trash out...\n",
      "Label2ID: {'Non-Hate': 0, 'Offensive': 1, 'Hate': 2}\n",
      "ID2Label: {0: 'Non-Hate', 1: 'Offensive', 2: 'Hate'}\n"
     ]
    }
   ],
   "source": [
    "# Print dataset overview\n",
    "print(dataset)\n",
    "print(\"Example:\", dataset[\"train\"][0][sentence_key])\n",
    "print(\"Label2ID:\", label2id)\n",
    "print(\"ID2Label:\", id2label)"
   ]
  },
  {
   "cell_type": "markdown",
   "metadata": {},
   "source": [
    "# 2. Tokenization and Data Preprocessing"
   ]
  },
  {
   "cell_type": "code",
   "execution_count": 13,
   "metadata": {},
   "outputs": [
    {
     "data": {
      "text/plain": [
       "3"
      ]
     },
     "execution_count": 13,
     "metadata": {},
     "output_type": "execute_result"
    }
   ],
   "source": [
    "# Check number of unique labels\n",
    "num_labels = len(label_list)\n",
    "num_labels"
   ]
  },
  {
   "cell_type": "code",
   "execution_count": 14,
   "metadata": {},
   "outputs": [
    {
     "name": "stderr",
     "output_type": "stream",
     "text": [
      "c:\\Users\\st124\\OneDrive\\Desktop\\NLP_A7\\venv\\lib\\site-packages\\huggingface_hub\\file_download.py:142: UserWarning: `huggingface_hub` cache-system uses symlinks by default to efficiently store duplicated files but your machine does not support them in C:\\Users\\st124\\.cache\\huggingface\\hub\\models--bert-base-uncased. Caching files will still work but in a degraded version that might require more space on your disk. This warning can be disabled by setting the `HF_HUB_DISABLE_SYMLINKS_WARNING` environment variable. For more details, see https://huggingface.co/docs/huggingface_hub/how-to-cache#limitations.\n",
      "To support symlinks on Windows, you either need to activate Developer Mode or to run Python as an administrator. In order to activate developer mode, see this article: https://docs.microsoft.com/en-us/windows/apps/get-started/enable-your-device-for-development\n",
      "  warnings.warn(message)\n"
     ]
    }
   ],
   "source": [
    "import numpy as np  \n",
    "from transformers import AutoModelForSequenceClassification, AutoTokenizer\n",
    "\n",
    "# Load BERT tokenizer\n",
    "teacher_id = \"bert-base-uncased\"\n",
    "tokenizer = AutoTokenizer.from_pretrained(teacher_id)"
   ]
  },
  {
   "cell_type": "code",
   "execution_count": 15,
   "metadata": {},
   "outputs": [
    {
     "name": "stderr",
     "output_type": "stream",
     "text": [
      "Some weights of BertForSequenceClassification were not initialized from the model checkpoint at bert-base-uncased and are newly initialized: ['classifier.bias', 'classifier.weight']\n",
      "You should probably TRAIN this model on a down-stream task to be able to use it for predictions and inference.\n"
     ]
    }
   ],
   "source": [
    "# Load Teacher Model (BERT)\n",
    "teacher_model = AutoModelForSequenceClassification.from_pretrained(\n",
    "    teacher_id, \n",
    "    num_labels=num_labels,\n",
    "    id2label=id2label,\n",
    "    label2id=label2id,\n",
    ")"
   ]
  },
  {
   "cell_type": "code",
   "execution_count": 16,
   "metadata": {},
   "outputs": [],
   "source": [
    "# Tokenization Function (Modified for HateXplain)\n",
    "def tokenize_function(examples):\n",
    "    return tokenizer(examples[\"tweet\"], max_length=128, truncation=True, padding=\"max_length\")"
   ]
  },
  {
   "cell_type": "code",
   "execution_count": 17,
   "metadata": {},
   "outputs": [
    {
     "name": "stderr",
     "output_type": "stream",
     "text": [
      "Map: 100%|██████████| 24783/24783 [00:02<00:00, 10907.61 examples/s]"
     ]
    },
    {
     "name": "stdout",
     "output_type": "stream",
     "text": [
      "tensor([  101,   999,   999,   999, 19387,  1030,  9815, 19454, 21818,  2135,\n",
      "         1024,  2004,  1037,  2450,  2017,  5807,  1005,  1056, 17612,  2055,\n",
      "         9344,  2039,  2115,  2160,  1012,  1004, 23713,  1025,  2004,  1037,\n",
      "         2158,  2017,  2323,  2467,  2202,  1996, 11669,  2041,  1012,  1012,\n",
      "         1012,   102,     0,     0,     0,     0,     0,     0,     0,     0,\n",
      "            0,     0,     0,     0,     0,     0,     0,     0,     0,     0,\n",
      "            0,     0,     0,     0,     0,     0,     0,     0,     0,     0,\n",
      "            0,     0,     0,     0,     0,     0,     0,     0,     0,     0,\n",
      "            0,     0,     0,     0,     0,     0,     0,     0,     0,     0,\n",
      "            0,     0,     0,     0,     0,     0,     0,     0,     0,     0,\n",
      "            0,     0,     0,     0,     0,     0,     0,     0,     0,     0,\n",
      "            0,     0,     0,     0,     0,     0,     0,     0,     0,     0,\n",
      "            0,     0,     0,     0,     0,     0,     0,     0])\n",
      "[CLS]!!! rt @ mayasolovely : as a woman you shouldn ' t complain about cleaning up your house. & amp ; as a man you should always take the trash out... [SEP] [PAD] [PAD] [PAD] [PAD] [PAD] [PAD] [PAD] [PAD] [PAD] [PAD] [PAD] [PAD] [PAD] [PAD] [PAD] [PAD] [PAD] [PAD] [PAD] [PAD] [PAD] [PAD] [PAD] [PAD] [PAD] [PAD] [PAD] [PAD] [PAD] [PAD] [PAD] [PAD] [PAD] [PAD] [PAD] [PAD] [PAD] [PAD] [PAD] [PAD] [PAD] [PAD] [PAD] [PAD] [PAD] [PAD] [PAD] [PAD] [PAD] [PAD] [PAD] [PAD] [PAD] [PAD] [PAD] [PAD] [PAD] [PAD] [PAD] [PAD] [PAD] [PAD] [PAD] [PAD] [PAD] [PAD] [PAD] [PAD] [PAD] [PAD] [PAD] [PAD] [PAD] [PAD] [PAD] [PAD] [PAD] [PAD] [PAD] [PAD] [PAD] [PAD] [PAD] [PAD] [PAD] [PAD]\n"
     ]
    },
    {
     "name": "stderr",
     "output_type": "stream",
     "text": [
      "\n"
     ]
    }
   ],
   "source": [
    "# Apply Tokenization\n",
    "tokenized_datasets = dataset.map(tokenize_function, batched=True)\n",
    "\n",
    "# Remove unnecessary columns\n",
    "tokenized_datasets = tokenized_datasets.remove_columns([\"count\", \"hate_speech_count\", \"offensive_language_count\", \"neither_count\", \"tweet\"])\n",
    "\n",
    "# Rename \"class\" column to \"labels\" for PyTorch compatibility\n",
    "tokenized_datasets = tokenized_datasets.rename_column(\"class\", \"labels\")\n",
    "\n",
    "# Set dataset format for PyTorch\n",
    "tokenized_datasets.set_format(\"torch\")\n",
    "\n",
    "# Print an example tokenized input\n",
    "print(tokenized_datasets[\"train\"][0][\"input_ids\"])\n",
    "print(tokenizer.decode(tokenized_datasets[\"train\"][0][\"input_ids\"]))"
   ]
  },
  {
   "cell_type": "markdown",
   "metadata": {},
   "source": [
    "# 3. Preparing Dataloader"
   ]
  },
  {
   "cell_type": "code",
   "execution_count": 18,
   "metadata": {},
   "outputs": [],
   "source": [
    "from transformers import DataCollatorWithPadding\n",
    "from torch.utils.data import DataLoader\n",
    "\n",
    "# Data Collator (Handles Dynamic Padding)\n",
    "data_collator = DataCollatorWithPadding(tokenizer=tokenizer)"
   ]
  },
  {
   "cell_type": "code",
   "execution_count": 19,
   "metadata": {},
   "outputs": [],
   "source": [
    "# Subset dataset for efficiency\n",
    "small_train_dataset = tokenized_datasets[\"train\"].shuffle(seed=1150).select(range(10000))  # 10K samples\n",
    "small_eval_dataset = tokenized_datasets[\"train\"].shuffle(seed=1150).select(range(1000))    # 1K samples (same train split)\n",
    "small_test_dataset = tokenized_datasets[\"train\"].shuffle(seed=1150).select(range(1000))    # 1K samples (same train split)"
   ]
  },
  {
   "cell_type": "code",
   "execution_count": 20,
   "metadata": {},
   "outputs": [],
   "source": [
    "# Create Dataloaders\n",
    "train_dataloader = DataLoader(\n",
    "    small_train_dataset, shuffle=True, batch_size=32, collate_fn=data_collator\n",
    ")\n",
    "test_dataloader = DataLoader(\n",
    "    small_test_dataset, batch_size=32, collate_fn=data_collator\n",
    ")\n",
    "eval_dataloader = DataLoader(\n",
    "    small_eval_dataset, batch_size=32, collate_fn=data_collator\n",
    ")"
   ]
  },
  {
   "cell_type": "code",
   "execution_count": 21,
   "metadata": {},
   "outputs": [
    {
     "data": {
      "text/plain": [
       "(torch.Size([32]), torch.Size([32, 128]), torch.Size([32, 128]))"
      ]
     },
     "execution_count": 21,
     "metadata": {},
     "output_type": "execute_result"
    }
   ],
   "source": [
    "# Check first batch\n",
    "for batch in train_dataloader:\n",
    "    break\n",
    "\n",
    "batch['labels'].shape, batch['input_ids'].shape, batch['attention_mask'].shape"
   ]
  },
  {
   "cell_type": "markdown",
   "metadata": {},
   "source": [
    "# 4. Model Training for Even and Odd Layers"
   ]
  },
  {
   "cell_type": "code",
   "execution_count": 24,
   "metadata": {},
   "outputs": [],
   "source": [
    "import torch\n",
    "import torch.nn as nn\n",
    "import torch.optim as optim\n",
    "import torch.nn.functional as F\n",
    "from transformers.models.bert.modeling_bert import BertModel, BertPreTrainedModel, BertConfig\n",
    "from tqdm.auto import tqdm\n",
    "import evaluate\n",
    "\n",
    "device = torch.device(\"cuda\" if torch.cuda.is_available() else \"cpu\")\n",
    "\n",
    "# Get teacher configuration as a dictionary\n",
    "configuration = teacher_model.config.to_dict()"
   ]
  },
  {
   "cell_type": "code",
   "execution_count": 25,
   "metadata": {},
   "outputs": [],
   "source": [
    "# Half the number of hidden layers (6 instead of 12)\n",
    "configuration[\"num_hidden_layers\"] = 6\n",
    "\n",
    "# Convert dictionary to student configuration\n",
    "configuration = BertConfig.from_dict(configuration)"
   ]
  },
  {
   "cell_type": "code",
   "execution_count": 27,
   "metadata": {},
   "outputs": [],
   "source": [
    "# Create uninitialized student models for Odd & Even Layer Training\n",
    "student_model_odd = type(teacher_model)(configuration)\n",
    "student_model_even = type(teacher_model)(configuration)"
   ]
  },
  {
   "cell_type": "code",
   "execution_count": 28,
   "metadata": {},
   "outputs": [
    {
     "data": {
      "text/plain": [
       "BertForSequenceClassification(\n",
       "  (bert): BertModel(\n",
       "    (embeddings): BertEmbeddings(\n",
       "      (word_embeddings): Embedding(30522, 768, padding_idx=0)\n",
       "      (position_embeddings): Embedding(512, 768)\n",
       "      (token_type_embeddings): Embedding(2, 768)\n",
       "      (LayerNorm): LayerNorm((768,), eps=1e-12, elementwise_affine=True)\n",
       "      (dropout): Dropout(p=0.1, inplace=False)\n",
       "    )\n",
       "    (encoder): BertEncoder(\n",
       "      (layer): ModuleList(\n",
       "        (0-5): 6 x BertLayer(\n",
       "          (attention): BertAttention(\n",
       "            (self): BertSelfAttention(\n",
       "              (query): Linear(in_features=768, out_features=768, bias=True)\n",
       "              (key): Linear(in_features=768, out_features=768, bias=True)\n",
       "              (value): Linear(in_features=768, out_features=768, bias=True)\n",
       "              (dropout): Dropout(p=0.1, inplace=False)\n",
       "            )\n",
       "            (output): BertSelfOutput(\n",
       "              (dense): Linear(in_features=768, out_features=768, bias=True)\n",
       "              (LayerNorm): LayerNorm((768,), eps=1e-12, elementwise_affine=True)\n",
       "              (dropout): Dropout(p=0.1, inplace=False)\n",
       "            )\n",
       "          )\n",
       "          (intermediate): BertIntermediate(\n",
       "            (dense): Linear(in_features=768, out_features=3072, bias=True)\n",
       "            (intermediate_act_fn): GELUActivation()\n",
       "          )\n",
       "          (output): BertOutput(\n",
       "            (dense): Linear(in_features=3072, out_features=768, bias=True)\n",
       "            (LayerNorm): LayerNorm((768,), eps=1e-12, elementwise_affine=True)\n",
       "            (dropout): Dropout(p=0.1, inplace=False)\n",
       "          )\n",
       "        )\n",
       "      )\n",
       "    )\n",
       "    (pooler): BertPooler(\n",
       "      (dense): Linear(in_features=768, out_features=768, bias=True)\n",
       "      (activation): Tanh()\n",
       "    )\n",
       "  )\n",
       "  (dropout): Dropout(p=0.1, inplace=False)\n",
       "  (classifier): Linear(in_features=768, out_features=3, bias=True)\n",
       ")"
      ]
     },
     "execution_count": 28,
     "metadata": {},
     "output_type": "execute_result"
    }
   ],
   "source": [
    "student_model_even"
   ]
  },
  {
   "cell_type": "code",
   "execution_count": 31,
   "metadata": {},
   "outputs": [],
   "source": [
    "def distill_bert_weights(teacher, student, layer_type=\"odd\"):\n",
    "    \"\"\"\n",
    "    Copies weights from the teacher model to the student model.\n",
    "    Only copies odd or even layers as specified by `layer_type`.\n",
    "\n",
    "    layer_type: 'odd' -> {1,3,5,7,9,11} mapped to student {0,1,2,3,4,5}\n",
    "                'even' -> {2,4,6,8,10,12} mapped to student {0,1,2,3,4,5}\n",
    "    \"\"\"\n",
    "    if isinstance(teacher, BertModel) or isinstance(teacher, BertPreTrainedModel):\n",
    "        for teacher_part, student_part in zip(teacher.children(), student.children()):\n",
    "            distill_bert_weights(teacher_part, student_part, layer_type)\n",
    "\n",
    "    elif hasattr(teacher, \"encoder\") and hasattr(student, \"encoder\"):\n",
    "        teacher_encoding_layers = list(teacher.encoder.layer)  # 12 layers\n",
    "        student_encoding_layers = list(student.encoder.layer)  # 6 layers\n",
    "\n",
    "        if layer_type == \"odd\":\n",
    "            selected_layers = [teacher_encoding_layers[i] for i in range(12) if i % 2 == 0]  # {1,3,5,7,9,11}\n",
    "        else:  # Even layers\n",
    "            selected_layers = [teacher_encoding_layers[i] for i in range(12) if i % 2 == 1]  # {2,4,6,8,10,12}\n",
    "\n",
    "        # Ensure correct mapping to student layers\n",
    "        for i in range(len(student_encoding_layers)):\n",
    "            student_encoding_layers[i].load_state_dict(selected_layers[i].state_dict())\n",
    "\n",
    "    elif hasattr(teacher, \"pooler\") and hasattr(student, \"pooler\"):\n",
    "        student.pooler.load_state_dict(teacher.pooler.state_dict())  # Copy pooler weights if present\n",
    "\n",
    "    return student\n",
    "\n",
    "    return student"
   ]
  },
  {
   "cell_type": "code",
   "execution_count": 32,
   "metadata": {},
   "outputs": [],
   "source": [
    "# Apply distillation: Create student models from Odd and Even layers\n",
    "student_model_odd = distill_bert_weights(teacher_model, student_model_odd, \"odd\")\n",
    "student_model_even = distill_bert_weights(teacher_model, student_model_even, \"even\")"
   ]
  },
  {
   "cell_type": "code",
   "execution_count": 33,
   "metadata": {},
   "outputs": [],
   "source": [
    "# Apply distillation: Create student models from Odd and Even layers\n",
    "student_model_odd = distill_bert_weights(teacher_model, student_model_odd, \"odd\")\n",
    "student_model_even = distill_bert_weights(teacher_model, student_model_even, \"even\")"
   ]
  },
  {
   "cell_type": "code",
   "execution_count": 34,
   "metadata": {},
   "outputs": [],
   "source": [
    "# Move models to device\n",
    "student_model_odd = student_model_odd.to(device)\n",
    "student_model_even = student_model_even.to(device)\n",
    "teacher_model = teacher_model.to(device)"
   ]
  },
  {
   "cell_type": "code",
   "execution_count": 35,
   "metadata": {},
   "outputs": [
    {
     "name": "stdout",
     "output_type": "stream",
     "text": [
      "Teacher parameters: 109484547\n",
      "Odd Student parameters: 66957315\n",
      "Even Student parameters: 66957315\n",
      "Odd Student Model Size: 61.16%\n",
      "Even Student Model Size: 61.16%\n"
     ]
    }
   ],
   "source": [
    "# Print model parameter counts\n",
    "def count_parameters(model):\n",
    "    return sum(p.numel() for p in model.parameters() if p.requires_grad)\n",
    "\n",
    "print(\"Teacher parameters:\", count_parameters(teacher_model))\n",
    "print(\"Odd Student parameters:\", count_parameters(student_model_odd))\n",
    "print(\"Even Student parameters:\", count_parameters(student_model_even))\n",
    "\n",
    "# Percentage size reduction\n",
    "print(f\"Odd Student Model Size: {count_parameters(student_model_odd)/count_parameters(teacher_model) * 100:.2f}%\")\n",
    "print(f\"Even Student Model Size: {count_parameters(student_model_even)/count_parameters(teacher_model) * 100:.2f}%\")"
   ]
  },
  {
   "cell_type": "code",
   "execution_count": 36,
   "metadata": {},
   "outputs": [],
   "source": [
    "import torch\n",
    "import torch.nn as nn\n",
    "import torch.optim as optim\n",
    "import torch.nn.functional as F\n",
    "from transformers import get_scheduler\n",
    "from tqdm.auto import tqdm\n",
    "import evaluate\n",
    "\n",
    "# Define Distillation Loss\n",
    "class DistillKL(nn.Module):\n",
    "    def __init__(self):\n",
    "        super(DistillKL, self).__init__()\n",
    "\n",
    "    def forward(self, output_student, output_teacher, temperature=1):\n",
    "        '''\n",
    "        Computes the KL Divergence Loss between teacher and student model logits.\n",
    "        '''\n",
    "        T = temperature\n",
    "        KD_loss = nn.KLDivLoss(reduction='batchmean')(\n",
    "            F.log_softmax(output_student/T, dim=-1),\n",
    "            F.softmax(output_teacher/T, dim=-1)\n",
    "        ) * T * T\n",
    "        return KD_loss"
   ]
  },
  {
   "cell_type": "code",
   "execution_count": 37,
   "metadata": {},
   "outputs": [],
   "source": [
    "# Loss functions\n",
    "criterion_cls = nn.CrossEntropyLoss()  # Classification Loss\n",
    "criterion_div = DistillKL()  # KL Divergence Loss\n",
    "criterion_cos = nn.CosineEmbeddingLoss()  # Cosine Similarity Loss"
   ]
  },
  {
   "cell_type": "code",
   "execution_count": 38,
   "metadata": {},
   "outputs": [],
   "source": [
    "# Optimizers\n",
    "lr = 5e-5\n",
    "optimizer_odd = optim.Adam(params=student_model_odd.parameters(), lr=lr)\n",
    "optimizer_even = optim.Adam(params=student_model_even.parameters(), lr=lr)\n",
    "\n",
    "num_epochs = 5\n",
    "num_update_steps_per_epoch = len(train_dataloader)\n",
    "num_training_steps = num_epochs * num_update_steps_per_epoch"
   ]
  },
  {
   "cell_type": "code",
   "execution_count": 39,
   "metadata": {},
   "outputs": [],
   "source": [
    "# Learning rate schedulers\n",
    "lr_scheduler_odd = get_scheduler(\n",
    "    name=\"linear\", optimizer=optimizer_odd, num_warmup_steps=0, num_training_steps=num_training_steps\n",
    ")\n",
    "lr_scheduler_even = get_scheduler(\n",
    "    name=\"linear\", optimizer=optimizer_even, num_warmup_steps=0, num_training_steps=num_training_steps\n",
    ")"
   ]
  },
  {
   "cell_type": "code",
   "execution_count": 41,
   "metadata": {},
   "outputs": [],
   "source": [
    "# Metric for evaluation\n",
    "metric = evaluate.load(\"accuracy\")"
   ]
  },
  {
   "cell_type": "code",
   "execution_count": 42,
   "metadata": {},
   "outputs": [],
   "source": [
    "def train_student_model(student_model, optimizer, lr_scheduler, student_type=\"odd\"):\n",
    "    \"\"\"\n",
    "    Trains the student model (Odd or Even) and evaluates it.\n",
    "    \"\"\"\n",
    "    progress_bar = tqdm(range(num_training_steps))\n",
    "    eval_metrics = 0\n",
    "\n",
    "    # Lists to store losses for each epoch\n",
    "    train_losses = []\n",
    "    train_losses_cls = []\n",
    "    train_losses_div = []\n",
    "    train_losses_cos = []\n",
    "    eval_losses = []\n",
    "\n",
    "    for epoch in range(num_epochs):\n",
    "        student_model.train()\n",
    "        teacher_model.eval()\n",
    "        train_loss = 0\n",
    "        train_loss_cls = 0\n",
    "        train_loss_div = 0\n",
    "        train_loss_cos = 0\n",
    "\n",
    "        for batch in train_dataloader:\n",
    "            batch = {k: v.to(device) for k, v in batch.items()}\n",
    "            outputs = student_model(**batch)  # Student model predictions\n",
    "\n",
    "            with torch.no_grad():\n",
    "                output_teacher = teacher_model(**batch)  # Teacher model predictions\n",
    "\n",
    "            # Compute Losses\n",
    "            loss_cls  = criterion_cls(outputs.logits, batch[\"labels\"])  # Classification loss\n",
    "            loss_div = criterion_div(outputs.logits, output_teacher.logits)  # KL Divergence\n",
    "            loss_cos = criterion_cos(output_teacher.logits, outputs.logits, torch.ones(output_teacher.logits.size()[0]).to(device))  # Cosine similarity loss\n",
    "\n",
    "            # Weighted total loss\n",
    "            loss = (loss_cls + loss_div + loss_cos) / 3\n",
    "\n",
    "            # Store loss values\n",
    "            train_loss += loss.item()\n",
    "            train_loss_cls += loss_cls.item()\n",
    "            train_loss_div += loss_div.item()\n",
    "            train_loss_cos += loss_cos.item()\n",
    "\n",
    "            # Backpropagation\n",
    "            loss.backward()\n",
    "            optimizer.step()\n",
    "            lr_scheduler.step()\n",
    "            optimizer.zero_grad()\n",
    "            progress_bar.update(1)\n",
    "\n",
    "        train_losses.append(train_loss / len(train_dataloader))\n",
    "        train_losses_cls.append(train_loss_cls / len(train_dataloader))\n",
    "        train_losses_div.append(train_loss_div / len(train_dataloader))\n",
    "        train_losses_cos.append(train_loss_cos / len(train_dataloader))\n",
    "\n",
    "        print(f'Epoch {epoch+1} ({student_type} student): Train Loss: {train_loss/len(train_dataloader):.4f}')\n",
    "        print(f'  - Loss_cls: {train_loss_cls/len(train_dataloader):.4f}')\n",
    "        print(f'  - Loss_div: {train_loss_div/len(train_dataloader):.4f}')\n",
    "        print(f'  - Loss_cos: {train_loss_cos/len(train_dataloader):.4f}')\n",
    "\n",
    "        # Evaluate model\n",
    "        student_model.eval()\n",
    "        eval_loss = 0\n",
    "\n",
    "        for batch in eval_dataloader:\n",
    "            batch = {k: v.to(device) for k, v in batch.items()}\n",
    "            with torch.no_grad():\n",
    "                outputs = student_model(**batch)\n",
    "\n",
    "            loss_cls = criterion_cls(outputs.logits, batch[\"labels\"])\n",
    "            predictions = outputs.logits.argmax(dim=-1)\n",
    "\n",
    "            eval_loss += loss_cls.item()\n",
    "            metric.add_batch(predictions=predictions, references=batch[\"labels\"])\n",
    "\n",
    "        eval_metric = metric.compute()\n",
    "        eval_metrics += eval_metric[\"accuracy\"]\n",
    "        eval_losses.append(eval_loss / len(eval_dataloader))  \n",
    "\n",
    "        print(f\"Epoch {epoch+1} ({student_type} student): Test Accuracy: {eval_metric['accuracy']:.4f}\")\n",
    "\n",
    "    print(f'Average Accuracy ({student_type} student): {eval_metrics/num_epochs:.4f}')"
   ]
  },
  {
   "cell_type": "code",
   "execution_count": 43,
   "metadata": {},
   "outputs": [
    {
     "name": "stdout",
     "output_type": "stream",
     "text": [
      "\n",
      "=== Training Odd-Layer Student Model ===\n"
     ]
    },
    {
     "name": "stderr",
     "output_type": "stream",
     "text": [
      " 20%|██        | 313/1565 [01:41<06:12,  3.36it/s]"
     ]
    },
    {
     "name": "stdout",
     "output_type": "stream",
     "text": [
      "Epoch 1 (odd student): Train Loss: 0.3123\n",
      "  - Loss_cls: 0.6176\n",
      "  - Loss_div: 0.1610\n",
      "  - Loss_cos: 0.1584\n"
     ]
    },
    {
     "name": "stderr",
     "output_type": "stream",
     "text": [
      " 20%|██        | 314/1565 [01:44<19:02,  1.10it/s]"
     ]
    },
    {
     "name": "stdout",
     "output_type": "stream",
     "text": [
      "Epoch 1 (odd student): Test Accuracy: 0.9230\n"
     ]
    },
    {
     "name": "stderr",
     "output_type": "stream",
     "text": [
      " 40%|████      | 626/1565 [03:24<04:38,  3.38it/s]"
     ]
    },
    {
     "name": "stdout",
     "output_type": "stream",
     "text": [
      "Epoch 2 (odd student): Train Loss: 0.2951\n",
      "  - Loss_cls: 0.5393\n",
      "  - Loss_div: 0.1882\n",
      "  - Loss_cos: 0.1577\n"
     ]
    },
    {
     "name": "stderr",
     "output_type": "stream",
     "text": [
      " 40%|████      | 627/1565 [03:27<14:12,  1.10it/s]"
     ]
    },
    {
     "name": "stdout",
     "output_type": "stream",
     "text": [
      "Epoch 2 (odd student): Test Accuracy: 0.9520\n"
     ]
    },
    {
     "name": "stderr",
     "output_type": "stream",
     "text": [
      " 60%|██████    | 939/1565 [05:07<03:05,  3.37it/s]"
     ]
    },
    {
     "name": "stdout",
     "output_type": "stream",
     "text": [
      "Epoch 3 (odd student): Train Loss: 0.2867\n",
      "  - Loss_cls: 0.5082\n",
      "  - Loss_div: 0.1970\n",
      "  - Loss_cos: 0.1550\n"
     ]
    },
    {
     "name": "stderr",
     "output_type": "stream",
     "text": [
      " 60%|██████    | 940/1565 [05:09<09:26,  1.10it/s]"
     ]
    },
    {
     "name": "stdout",
     "output_type": "stream",
     "text": [
      "Epoch 3 (odd student): Test Accuracy: 0.9700\n"
     ]
    },
    {
     "name": "stderr",
     "output_type": "stream",
     "text": [
      " 80%|████████  | 1252/1565 [06:50<01:33,  3.36it/s]"
     ]
    },
    {
     "name": "stdout",
     "output_type": "stream",
     "text": [
      "Epoch 4 (odd student): Train Loss: 0.2784\n",
      "  - Loss_cls: 0.4836\n",
      "  - Loss_div: 0.2041\n",
      "  - Loss_cos: 0.1475\n"
     ]
    },
    {
     "name": "stderr",
     "output_type": "stream",
     "text": [
      " 80%|████████  | 1253/1565 [06:53<04:43,  1.10it/s]"
     ]
    },
    {
     "name": "stdout",
     "output_type": "stream",
     "text": [
      "Epoch 4 (odd student): Test Accuracy: 0.9800\n"
     ]
    },
    {
     "name": "stderr",
     "output_type": "stream",
     "text": [
      "100%|██████████| 1565/1565 [08:33<00:00,  3.38it/s]"
     ]
    },
    {
     "name": "stdout",
     "output_type": "stream",
     "text": [
      "Epoch 5 (odd student): Train Loss: 0.2731\n",
      "  - Loss_cls: 0.4695\n",
      "  - Loss_div: 0.2079\n",
      "  - Loss_cos: 0.1418\n"
     ]
    },
    {
     "name": "stderr",
     "output_type": "stream",
     "text": [
      "100%|██████████| 1565/1565 [08:35<00:00,  3.03it/s]\n"
     ]
    },
    {
     "name": "stdout",
     "output_type": "stream",
     "text": [
      "Epoch 5 (odd student): Test Accuracy: 0.9820\n",
      "Average Accuracy (odd student): 0.9614\n",
      "\n",
      "=== Training Even-Layer Student Model ===\n"
     ]
    },
    {
     "name": "stderr",
     "output_type": "stream",
     "text": [
      " 20%|██        | 313/1565 [01:40<06:10,  3.38it/s]"
     ]
    },
    {
     "name": "stdout",
     "output_type": "stream",
     "text": [
      "Epoch 1 (even student): Train Loss: 0.3410\n",
      "  - Loss_cls: 0.7303\n",
      "  - Loss_div: 0.1349\n",
      "  - Loss_cos: 0.1579\n"
     ]
    },
    {
     "name": "stderr",
     "output_type": "stream",
     "text": [
      " 20%|██        | 314/1565 [01:43<18:57,  1.10it/s]"
     ]
    },
    {
     "name": "stdout",
     "output_type": "stream",
     "text": [
      "Epoch 1 (even student): Test Accuracy: 0.8560\n"
     ]
    },
    {
     "name": "stderr",
     "output_type": "stream",
     "text": [
      " 40%|████      | 626/1565 [03:23<04:35,  3.40it/s]"
     ]
    },
    {
     "name": "stdout",
     "output_type": "stream",
     "text": [
      "Epoch 2 (even student): Train Loss: 0.3089\n",
      "  - Loss_cls: 0.5939\n",
      "  - Loss_div: 0.1738\n",
      "  - Loss_cos: 0.1590\n"
     ]
    },
    {
     "name": "stderr",
     "output_type": "stream",
     "text": [
      " 40%|████      | 627/1565 [03:26<14:12,  1.10it/s]"
     ]
    },
    {
     "name": "stdout",
     "output_type": "stream",
     "text": [
      "Epoch 2 (even student): Test Accuracy: 0.8970\n"
     ]
    },
    {
     "name": "stderr",
     "output_type": "stream",
     "text": [
      " 60%|██████    | 939/1565 [05:06<03:06,  3.36it/s]"
     ]
    },
    {
     "name": "stdout",
     "output_type": "stream",
     "text": [
      "Epoch 3 (even student): Train Loss: 0.3008\n",
      "  - Loss_cls: 0.5570\n",
      "  - Loss_div: 0.1860\n",
      "  - Loss_cos: 0.1595\n"
     ]
    },
    {
     "name": "stderr",
     "output_type": "stream",
     "text": [
      " 60%|██████    | 940/1565 [05:09<09:29,  1.10it/s]"
     ]
    },
    {
     "name": "stdout",
     "output_type": "stream",
     "text": [
      "Epoch 3 (even student): Test Accuracy: 0.9300\n"
     ]
    },
    {
     "name": "stderr",
     "output_type": "stream",
     "text": [
      " 80%|████████  | 1252/1565 [06:49<01:32,  3.37it/s]"
     ]
    },
    {
     "name": "stdout",
     "output_type": "stream",
     "text": [
      "Epoch 4 (even student): Train Loss: 0.2928\n",
      "  - Loss_cls: 0.5240\n",
      "  - Loss_div: 0.1944\n",
      "  - Loss_cos: 0.1599\n"
     ]
    },
    {
     "name": "stderr",
     "output_type": "stream",
     "text": [
      " 80%|████████  | 1253/1565 [06:52<04:43,  1.10it/s]"
     ]
    },
    {
     "name": "stdout",
     "output_type": "stream",
     "text": [
      "Epoch 4 (even student): Test Accuracy: 0.9510\n"
     ]
    },
    {
     "name": "stderr",
     "output_type": "stream",
     "text": [
      "100%|██████████| 1565/1565 [08:32<00:00,  3.38it/s]"
     ]
    },
    {
     "name": "stdout",
     "output_type": "stream",
     "text": [
      "Epoch 5 (even student): Train Loss: 0.2875\n",
      "  - Loss_cls: 0.5030\n",
      "  - Loss_div: 0.1996\n",
      "  - Loss_cos: 0.1598\n"
     ]
    },
    {
     "name": "stderr",
     "output_type": "stream",
     "text": [
      "100%|██████████| 1565/1565 [08:35<00:00,  3.04it/s]"
     ]
    },
    {
     "name": "stdout",
     "output_type": "stream",
     "text": [
      "Epoch 5 (even student): Test Accuracy: 0.9590\n",
      "Average Accuracy (even student): 0.9186\n"
     ]
    },
    {
     "name": "stderr",
     "output_type": "stream",
     "text": [
      "\n"
     ]
    }
   ],
   "source": [
    "# Train Odd-Layer Student Model\n",
    "print(\"\\n=== Training Odd-Layer Student Model ===\")\n",
    "train_student_model(student_model_odd, optimizer_odd, lr_scheduler_odd, \"odd\")\n",
    "\n",
    "# Train Even-Layer Student Model\n",
    "print(\"\\n=== Training Even-Layer Student Model ===\")\n",
    "train_student_model(student_model_even, optimizer_even, lr_scheduler_even, \"even\")"
   ]
  },
  {
   "cell_type": "code",
   "execution_count": 45,
   "metadata": {},
   "outputs": [
    {
     "data": {
      "image/png": "[encoded data removed]",
      "text/plain": [
       "<Figure size 1000x400 with 1 Axes>"
      ]
     },
     "metadata": {},
     "output_type": "display_data"
    },
    {
     "data": {
      "image/png": "[encoded data removed]",
      "text/plain": [
       "<Figure size 1000x400 with 1 Axes>"
      ]
     },
     "metadata": {},
     "output_type": "display_data"
    }
   ],
   "source": [
    "import matplotlib.pyplot as plt\n",
    "\n",
    "epochs = list(range(1, 6))\n",
    "\n",
    "# Loss Trend\n",
    "plt.figure(figsize=(10,4))\n",
    "plt.plot(epochs, [0.3123, 0.2951, 0.2867, 0.2784, 0.2731], label=\"Odd-Layer Train Loss\", marker=\"o\")\n",
    "plt.plot(epochs, [0.3410, 0.3089, 0.3008, 0.2928, 0.2875], label=\"Even-Layer Train Loss\", marker=\"s\")\n",
    "plt.xlabel(\"Epochs\")\n",
    "plt.ylabel(\"Loss\")\n",
    "plt.title(\"Training Loss Comparison (Odd vs. Even)\")\n",
    "plt.legend()\n",
    "plt.show()\n",
    "\n",
    "# Accuracy Trend\n",
    "plt.figure(figsize=(10,4))\n",
    "plt.plot(epochs, [0.9230, 0.9520, 0.9700, 0.9800, 0.9820], label=\"Odd-Layer Test Accuracy\", marker=\"o\")\n",
    "plt.plot(epochs, [0.8560, 0.8970, 0.9300, 0.9510, 0.9590], label=\"Even-Layer Test Accuracy\", marker=\"s\")\n",
    "plt.xlabel(\"Epochs\")\n",
    "plt.ylabel(\"Accuracy\")\n",
    "plt.title(\"Test Accuracy Comparison (Odd vs. Even)\")\n",
    "plt.legend()\n",
    "plt.show()"
   ]
  },
  {
   "cell_type": "code",
   "execution_count": null,
   "metadata": {},
   "outputs": [],
   "source": []
  }
 ],
 "metadata": {
  "kernelspec": {
   "display_name": "venv",
   "language": "python",
   "name": "python3"
  },
  "language_info": {
   "codemirror_mode": {
    "name": "ipython",
    "version": 3
   },
   "file_extension": ".py",
   "mimetype": "text/x-python",
   "name": "python",
   "nbconvert_exporter": "python",
   "pygments_lexer": "ipython3",
   "version": "3.10.5"
  }
 },
 "nbformat": 4,
 "nbformat_minor": 2
}
